{
 "cells": [
  {
   "cell_type": "code",
   "execution_count": 1,
   "id": "e020bcbf-2314-4391-99c1-41b221fa418b",
   "metadata": {},
   "outputs": [
    {
     "name": "stdout",
     "output_type": "stream",
     "text": [
      "Python 3.11.6\n"
     ]
    }
   ],
   "source": [
    "!python --version"
   ]
  },
  {
   "cell_type": "markdown",
   "id": "e40b9d8e-c0f2-4143-927b-e9a99e5d3b47",
   "metadata": {},
   "source": [
    "# Конструкция match/case\n",
    "Добавлена в Python 3.10"
   ]
  },
  {
   "cell_type": "code",
   "execution_count": 33,
   "id": "3c8d5459-4a38-4694-8f2d-a29cb91c84ab",
   "metadata": {},
   "outputs": [
    {
     "name": "stdout",
     "output_type": "stream",
     "text": [
      "One\n"
     ]
    }
   ],
   "source": [
    "value = '1'\n",
    "if value == '1':\n",
    "   print('One')\n",
    "elif value == '2':\n",
    "   print('Two')\n",
    "else:\n",
    "   print('Many')\n"
   ]
  },
  {
   "cell_type": "code",
   "execution_count": 34,
   "id": "c976c2bc-ba86-4333-870c-09c1f9a1a6e3",
   "metadata": {},
   "outputs": [
    {
     "name": "stdout",
     "output_type": "stream",
     "text": [
      "One\n"
     ]
    }
   ],
   "source": [
    "value = '1'\n",
    "match value:\n",
    "   case '1':\n",
    "       print('One')\n",
    "   case '2':\n",
    "       print('Two')\n",
    "   case _:\n",
    "       print('Many')"
   ]
  },
  {
   "cell_type": "markdown",
   "id": "3658df36-a9d6-4933-a47d-a7c9f251c40b",
   "metadata": {},
   "source": [
    "Пока разница небольшая, чуть сокращённый синтаксис, но..."
   ]
  },
  {
   "cell_type": "code",
   "execution_count": 38,
   "id": "bb167691-b529-4974-a88b-eb9a74a4c1b4",
   "metadata": {},
   "outputs": [
    {
     "name": "stdout",
     "output_type": "stream",
     "text": [
      "No\n"
     ]
    }
   ],
   "source": [
    "value = None\n",
    "if not value:\n",
    "    print('No')\n",
    "else:\n",
    "    print('Yes')"
   ]
  },
  {
   "cell_type": "code",
   "execution_count": 39,
   "id": "07f59acc-1fd2-42b0-b42a-59383c5ad2f0",
   "metadata": {},
   "outputs": [
    {
     "name": "stdout",
     "output_type": "stream",
     "text": [
      "Yes\n"
     ]
    }
   ],
   "source": [
    "value = None\n",
    "match value:\n",
    "    case '':\n",
    "        print('No')\n",
    "    case _:\n",
    "        print('Yes')"
   ]
  },
  {
   "cell_type": "markdown",
   "id": "f1f36ba7-a4c5-4ff8-820d-b1b6ddc4d356",
   "metadata": {},
   "source": [
    "Здесь уже видим разницу.\n",
    "\n",
    "Что на самом деле происходит под капотом:"
   ]
  },
  {
   "cell_type": "code",
   "execution_count": 40,
   "id": "9706f72a-dd0f-4f14-bcba-ae150f69cd83",
   "metadata": {},
   "outputs": [
    {
     "name": "stdout",
     "output_type": "stream",
     "text": [
      "One\n"
     ]
    }
   ],
   "source": [
    "value = '1'\n",
    "if isinstance(value, str) and value == '1':\n",
    "   print('One')\n",
    "elif isinstance(value, str) and value == '2':\n",
    "   print('Two')\n",
    "else:\n",
    "   print('Many')"
   ]
  },
  {
   "cell_type": "code",
   "execution_count": null,
   "id": "6eb5b781-b35c-4a2d-ba39-41bb5628e6eb",
   "metadata": {},
   "outputs": [],
   "source": [
    "value = '1'\n",
    "match value:\n",
    "    case '1':\n",
    "       print('One')\n",
    "    case '2':\n",
    "       print('Two')\n",
    "    case _:\n",
    "       print('Many')"
   ]
  },
  {
   "cell_type": "markdown",
   "id": "f0703952-0ec0-4f80-89cf-d3456843eb89",
   "metadata": {},
   "source": [
    "Но на этом функции не ограничиваются. Можно записывать несколько вариантов:"
   ]
  },
  {
   "cell_type": "code",
   "execution_count": 42,
   "id": "e16a5956-d111-4044-b0f3-ce562c69d5b9",
   "metadata": {},
   "outputs": [
    {
     "name": "stdout",
     "output_type": "stream",
     "text": [
      "Match\n"
     ]
    }
   ],
   "source": [
    "value = '1'\n",
    "match value:\n",
    "    case '1' | '2':\n",
    "        print('Match')"
   ]
  },
  {
   "cell_type": "markdown",
   "id": "3bc35f89-7d1f-4f6a-8817-14828e1c71f9",
   "metadata": {},
   "source": [
    "Можно проверять на соответствие структурам:"
   ]
  },
  {
   "cell_type": "code",
   "execution_count": 46,
   "id": "776a31ba-97c7-4c3a-84e0-900acd2a763c",
   "metadata": {},
   "outputs": [
    {
     "name": "stdout",
     "output_type": "stream",
     "text": [
      "['Two', 'Three'] One\n"
     ]
    }
   ],
   "source": [
    "value = 'One Two Three'.split()\n",
    "match value:\n",
    "    case a, *b:\n",
    "        print(b, a)\n",
    "    case _:\n",
    "        print('Not match')"
   ]
  },
  {
   "cell_type": "code",
   "execution_count": 47,
   "id": "8c3fcf59-66ac-47cd-a1d5-68ce7e557fa0",
   "metadata": {},
   "outputs": [
    {
     "name": "stdout",
     "output_type": "stream",
     "text": [
      "['Two', 'Three'] One\n"
     ]
    }
   ],
   "source": [
    "value = 'One Two Three'.split()\n",
    "match value:\n",
    "    case a, b:\n",
    "        print(b, a)\n",
    "    case a, b, c:\n",
    "        print(c, b, a)\n",
    "    case _:\n",
    "        print('Not match')"
   ]
  },
  {
   "cell_type": "code",
   "execution_count": 50,
   "id": "196e8ab2-01e5-4e3b-8db1-3bfe168d9a98",
   "metadata": {},
   "outputs": [
    {
     "name": "stdout",
     "output_type": "stream",
     "text": [
      "Not match\n"
     ]
    }
   ],
   "source": [
    "value = 'One1 Two Three a'.split()\n",
    "match value:\n",
    "    case 'One', *b:\n",
    "        print(*b)\n",
    "    case a, b, c:\n",
    "        print(c, b, a)\n",
    "    case _:\n",
    "        print('Not match')"
   ]
  },
  {
   "cell_type": "code",
   "execution_count": 52,
   "id": "ed7a1e76-e2e0-4b27-a9ba-416cdcada395",
   "metadata": {},
   "outputs": [
    {
     "name": "stdout",
     "output_type": "stream",
     "text": [
      "Three 3 One\n"
     ]
    }
   ],
   "source": [
    "value = 'One 3 Three'.split()\n",
    "match value:\n",
    "    case 'One', '1' | '2', *b:\n",
    "        print(*b)\n",
    "    case a, b, c:\n",
    "        print(c, b, a)\n",
    "    case _:\n",
    "        print('Not match')"
   ]
  },
  {
   "cell_type": "markdown",
   "id": "38899ccc-f634-4722-b6d3-e57d780e1249",
   "metadata": {},
   "source": [
    "Именовать совпавшие части:"
   ]
  },
  {
   "cell_type": "code",
   "execution_count": 54,
   "id": "b4f7759c-e857-41b9-8d25-8d6faf0ce6a2",
   "metadata": {},
   "outputs": [
    {
     "name": "stdout",
     "output_type": "stream",
     "text": [
      "2 Three\n"
     ]
    }
   ],
   "source": [
    "value = 'One 2 Three'.split()\n",
    "match value:\n",
    "    case 'One', '1' | '2' as num, *b:\n",
    "        print(num, *b)\n",
    "    case a, b, c:\n",
    "        print(c, b, a)\n",
    "    case _:\n",
    "        print('Not match')"
   ]
  },
  {
   "cell_type": "code",
   "execution_count": 56,
   "id": "236427c7-d9a3-423b-8fa0-b1bbea69dd5a",
   "metadata": {},
   "outputs": [
    {
     "name": "stdout",
     "output_type": "stream",
     "text": [
      "One [] Four\n"
     ]
    }
   ],
   "source": [
    "value = 'One 3 Three Four'.split()\n",
    "match value:\n",
    "    case a, *b, c:\n",
    "        print(a, b, c)\n",
    "    case _:\n",
    "        print('Not match')"
   ]
  },
  {
   "cell_type": "code",
   "execution_count": null,
   "id": "c7c6c8a3-488e-4079-9575-5c9f2bb6a7eb",
   "metadata": {},
   "outputs": [],
   "source": [
    "И даже сопоставлять словари:"
   ]
  },
  {
   "cell_type": "code",
   "execution_count": 60,
   "id": "48b96914-7b23-44e0-a38c-652b4ae8425d",
   "metadata": {},
   "outputs": [
    {
     "name": "stdout",
     "output_type": "stream",
     "text": [
      "2 3\n"
     ]
    }
   ],
   "source": [
    "value = {'a': 2, 'b': 3}\n",
    "match value:\n",
    "    case {'a': 1 | 2 as a, 'b': b}:\n",
    "        print(a, b)\n",
    "    case _:\n",
    "        print('Other')"
   ]
  }
 ],
 "metadata": {
  "kernelspec": {
   "display_name": "Python 3 (ipykernel)",
   "language": "python",
   "name": "python3"
  },
  "language_info": {
   "codemirror_mode": {
    "name": "ipython",
    "version": 3
   },
   "file_extension": ".py",
   "mimetype": "text/x-python",
   "name": "python",
   "nbconvert_exporter": "python",
   "pygments_lexer": "ipython3",
   "version": "3.9.9"
  }
 },
 "nbformat": 4,
 "nbformat_minor": 5
}
